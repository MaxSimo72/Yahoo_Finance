{
  "nbformat": 4,
  "nbformat_minor": 0,
  "metadata": {
    "colab": {
      "provenance": [],
      "toc_visible": true,
      "authorship_tag": "ABX9TyNT54nALDfRfHnb64B97fU4",
      "include_colab_link": true
    },
    "kernelspec": {
      "name": "python3",
      "display_name": "Python 3"
    },
    "language_info": {
      "name": "python"
    }
  },
  "cells": [
    {
      "cell_type": "markdown",
      "metadata": {
        "id": "view-in-github",
        "colab_type": "text"
      },
      "source": [
        "<a href=\"https://colab.research.google.com/github/MaxSimo72/Yahoo_Finance/blob/main/Yahoo_Finance_v02.ipynb\" target=\"_parent\"><img src=\"https://colab.research.google.com/assets/colab-badge.svg\" alt=\"Open In Colab\"/></a>"
      ]
    },
    {
      "cell_type": "code",
      "execution_count": null,
      "metadata": {
        "id": "dl4OxqcXeWft"
      },
      "outputs": [],
      "source": [
        "!pip install yfinance"
      ]
    },
    {
      "cell_type": "code",
      "source": [
        "!pip install --upgrade yfinance"
      ],
      "metadata": {
        "id": "0gIS-e79q6Lq"
      },
      "execution_count": null,
      "outputs": []
    },
    {
      "cell_type": "code",
      "source": [
        "import yfinance as yf\n",
        "import pandas as pd"
      ],
      "metadata": {
        "id": "rE6ESwi9plAL"
      },
      "execution_count": null,
      "outputs": []
    },
    {
      "cell_type": "code",
      "source": [
        "#GENERALI\n",
        "#data = yf.download(\"G.MI\", start=\"1991-01-01\", end=\"2024-12-31\")\n",
        "\n",
        "#ALLIANZ\n",
        "data = yf.download(\"ALV.DE\", start=\"1997-01-01\", end=\"2024-12-31\")\n",
        "\n",
        "closing_prices = data['Close']\n",
        "volume = data['Volume']\n",
        "\n",
        "print(closing_prices)\n",
        "print(volume)"
      ],
      "metadata": {
        "id": "eja0i4QWplCv"
      },
      "execution_count": null,
      "outputs": []
    },
    {
      "cell_type": "code",
      "source": [
        "data"
      ],
      "metadata": {
        "id": "diLwqogNrKxV"
      },
      "execution_count": null,
      "outputs": []
    },
    {
      "cell_type": "code",
      "source": [
        "data.dtypes"
      ],
      "metadata": {
        "id": "sDn-b4murKt6"
      },
      "execution_count": null,
      "outputs": []
    },
    {
      "cell_type": "code",
      "source": [
        "# Assuming 1y is always 365 days\n",
        "data['1Y_Rolling_Return'] = data['Close'].pct_change(periods=365)\n",
        "\n",
        "# Assuming 3y is always 1095 days\n",
        "data['3Y_Rolling_Return'] = data['Close'].pct_change(periods=1095)"
      ],
      "metadata": {
        "id": "T8YXhcEzrKrG"
      },
      "execution_count": null,
      "outputs": []
    },
    {
      "cell_type": "code",
      "source": [
        "num_rows = len(data)\n",
        "print(f\"Number of rows in the dataset: {num_rows}\")\n",
        "\n",
        "# Filter out NaN values using .notna()\n",
        "filtered_data_1Y = data[data['1Y_Rolling_Return'].notna()]\n",
        "filtered_data_3Y = data[data['3Y_Rolling_Return'].notna()]\n",
        "\n",
        "num_rows_1Y_filtered_data = len(filtered_data_1Y)\n",
        "print(f\"Number of rows in the 1Y filtered dataset: {num_rows_1Y_filtered_data}\")\n",
        "\n",
        "num_rows_3Y_filtered_data = len(filtered_data_3Y)\n",
        "print(f\"Number of rows in the 3Y filtered dataset: {num_rows_3Y_filtered_data}\")"
      ],
      "metadata": {
        "id": "zgn0EnOa81Cq"
      },
      "execution_count": null,
      "outputs": []
    },
    {
      "cell_type": "code",
      "source": [
        "nan_count_1Y = data['1Y_Rolling_Return'].isna().sum()\n",
        "nan_count_3Y = data['3Y_Rolling_Return'].isna().sum()"
      ],
      "metadata": {
        "id": "MTFFnG2F71r2"
      },
      "execution_count": null,
      "outputs": []
    },
    {
      "cell_type": "code",
      "source": [
        "print(f\"Number of NaN values in 1Y_Rolling_Return: {nan_count_1Y}\")\n",
        "print(f\"Number of NaN values in 3Y_Rolling_Return: {nan_count_3Y}\")"
      ],
      "metadata": {
        "id": "O1veQ6Sb71aF"
      },
      "execution_count": null,
      "outputs": []
    },
    {
      "cell_type": "code",
      "source": [
        "# data.to_csv('stock_data.csv', index=True)"
      ],
      "metadata": {
        "id": "6OVXfyQ4plHt"
      },
      "execution_count": null,
      "outputs": []
    },
    {
      "cell_type": "code",
      "source": [
        "import matplotlib.pyplot as plt\n",
        "\n",
        "# Filter out NaN values using .notna()\n",
        "\n",
        "plt.figure(figsize=(10, 6))\n",
        "plt.hist(filtered_data_3Y['3Y_Rolling_Return'], bins=100)\n",
        "plt.title('Distribution of 3-Year Rolling Return (NaNs Removed)')\n",
        "plt.xlabel('3-Year Rolling Return')\n",
        "plt.ylabel('Frequency')\n",
        "plt.grid(True)\n",
        "plt.show()"
      ],
      "metadata": {
        "id": "taM8NjJxplKR"
      },
      "execution_count": null,
      "outputs": []
    },
    {
      "cell_type": "code",
      "source": [
        "import matplotlib.pyplot as plt\n",
        "\n",
        "# Filter out NaN values using .notna()\n",
        "filtered_data_3Y = data[data['3Y_Rolling_Return'].notna()]\n",
        "\n",
        "plt.figure(figsize=(10, 6))\n",
        "\n",
        "# Calculate the frequency of each bin\n",
        "hist, bins, _ = plt.hist(filtered_data_3Y['3Y_Rolling_Return'], bins=100, density=True) # Added density=True\n",
        "\n",
        "# Divide the frequency of each bin by nan_count_3Y\n",
        "modified_hist = hist / nan_count_3Y\n",
        "\n",
        "# Create a bar plot with modified frequencies\n",
        "plt.bar(bins[:-1], modified_hist, width=bins[1] - bins[0])\n",
        "\n",
        "plt.title('Numerosity of 3-Year Rolling Return Divided by NaN Count (NaNs Removed)')\n",
        "plt.xlabel('3-Year Rolling Return')\n",
        "plt.ylabel('Numerosity / NaN Count') # Changed y-axis label\n",
        "plt.grid(True)\n",
        "plt.show()"
      ],
      "metadata": {
        "id": "WqI0DQCH553u"
      },
      "execution_count": null,
      "outputs": []
    },
    {
      "cell_type": "code",
      "source": [
        "plt.figure(figsize=(10, 6))\n",
        "plt.hist(filtered_data_3Y['3Y_Rolling_Return'], bins=100, density=True)\n",
        "plt.title('Distribution of 3-Year Rolling Return - Density (NaNs Removed)')\n",
        "plt.xlabel('3-Year Rolling Return')\n",
        "plt.ylabel('Density')  # Changed y-axis label to 'Density'\n",
        "plt.grid(True)\n",
        "plt.show()"
      ],
      "metadata": {
        "id": "5SEA1Bm_CT-G"
      },
      "execution_count": null,
      "outputs": []
    },
    {
      "cell_type": "code",
      "source": [
        "negative_3Y_return_count = (filtered_data_3Y['3Y_Rolling_Return'] < 0).sum()\n",
        "print(f\"Number of times with negative 3Y Rolling Return: {negative_3Y_return_count}\")"
      ],
      "metadata": {
        "id": "pRm2i8i8AE1e"
      },
      "execution_count": null,
      "outputs": []
    },
    {
      "cell_type": "code",
      "source": [
        "positive_3Y_return_count = (filtered_data_3Y['3Y_Rolling_Return'] > 0).sum()\n",
        "print(f\"Number of times with positive 3Y Rolling Return: {positive_3Y_return_count}\")"
      ],
      "metadata": {
        "id": "rdw-kBFrAEym"
      },
      "execution_count": null,
      "outputs": []
    },
    {
      "cell_type": "code",
      "source": [
        "total_count = negative_3Y_return_count + positive_3Y_return_count\n",
        "print(f\"Total count: {total_count}\")"
      ],
      "metadata": {
        "id": "vOcjov7kplOn"
      },
      "execution_count": null,
      "outputs": []
    },
    {
      "cell_type": "code",
      "source": [
        "print(f\"% of times with negative 3Y Rolling Return: {(negative_3Y_return_count/total_count)*100}\")\n",
        "print(f\"% of times with positive 3Y Rolling Return: {(positive_3Y_return_count/total_count)*100}\")"
      ],
      "metadata": {
        "id": "JanBKPiSplQ9"
      },
      "execution_count": null,
      "outputs": []
    },
    {
      "cell_type": "code",
      "source": [
        "import matplotlib.pyplot as plt\n",
        "import seaborn as sns\n",
        "\n",
        "# Filter out NaN values using .notna()\n",
        "# filtered_data_3Y = data[data['3Y_Rolling_Return'].notna()]\n",
        "\n",
        "plt.figure(figsize=(10, 6))\n",
        "sns.kdeplot(filtered_data_3Y['3Y_Rolling_Return'])\n",
        "plt.title('Probability Distribution of 3-Year Rolling Return (KDE)')\n",
        "plt.xlabel('3-Year Rolling Return')\n",
        "plt.ylabel('Probability Density')\n",
        "plt.grid(True)\n",
        "plt.show()"
      ],
      "metadata": {
        "id": "fKnC9LmZQBj6"
      },
      "execution_count": null,
      "outputs": []
    },
    {
      "cell_type": "code",
      "source": [],
      "metadata": {
        "id": "gk8-mPn6QBfz"
      },
      "execution_count": null,
      "outputs": []
    },
    {
      "cell_type": "code",
      "source": [],
      "metadata": {
        "id": "q5uPKdSuQBaR"
      },
      "execution_count": null,
      "outputs": []
    },
    {
      "cell_type": "code",
      "source": [],
      "metadata": {
        "id": "cx3lhpnrHpNT"
      },
      "execution_count": null,
      "outputs": []
    },
    {
      "cell_type": "code",
      "source": [],
      "metadata": {
        "id": "Fbmm-4eYHpEC"
      },
      "execution_count": null,
      "outputs": []
    }
  ]
}